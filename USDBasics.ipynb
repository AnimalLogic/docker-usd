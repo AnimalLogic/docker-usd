{
 "cells": [
  {
   "cell_type": "markdown",
   "metadata": {},
   "source": [
    "# USD Basics\n",
    "\n",
    "## Print USD Version"
   ]
  },
  {
   "cell_type": "code",
   "execution_count": 2,
   "metadata": {},
   "outputs": [
    {
     "name": "stdout",
     "output_type": "stream",
     "text": [
      "USD v0.20.8\n"
     ]
    }
   ],
   "source": [
    "from pxr import Usd\n",
    "print(\"USD v\" + \".\".join(map(str, Usd.GetVersion())))"
   ]
  },
  {
   "cell_type": "markdown",
   "metadata": {},
   "source": [
    "# Open the Kitchen Set USD file"
   ]
  },
  {
   "cell_type": "code",
   "execution_count": 8,
   "metadata": {},
   "outputs": [
    {
     "name": "stdout",
     "output_type": "stream",
     "text": [
      "Stage root layer: /home/jovyan/work/Kitchen_set.usd\n"
     ]
    }
   ],
   "source": [
    "stage = Usd.Stage.Open(\"Kitchen_set.usd\")\n",
    "print(f\"Stage root layer: {stage.GetRootLayer().realPath}\")"
   ]
  },
  {
   "cell_type": "markdown",
   "metadata": {},
   "source": [
    "## Iterate Prims"
   ]
  },
  {
   "cell_type": "code",
   "execution_count": 27,
   "metadata": {},
   "outputs": [
    {
     "name": "stdout",
     "output_type": "stream",
     "text": [
      "prim / []\n",
      "prim /Kitchen_set [Xform]\n",
      "prim /Kitchen_set/Arch_grp [Xform]\n",
      "prim /Kitchen_set/Arch_grp/Kitchen_1 [Xform]\n",
      "prim /Kitchen_set/Arch_grp/Kitchen_1/Geom [Xform]\n",
      "prim /Kitchen_set/Arch_grp/Kitchen_1/Geom/Cabinets [Xform]\n",
      "prim /Kitchen_set/Arch_grp/Kitchen_1/Geom/Cabinets/Body [Xform]\n",
      "prim /Kitchen_set/Arch_grp/Kitchen_1/Geom/Cabinets/Body/pCube251 [Mesh]\n",
      "prim /Kitchen_set/Arch_grp/Kitchen_1/Geom/Cabinets/Body/pCube277 [Mesh]\n",
      "prim /Kitchen_set/Arch_grp/Kitchen_1/Geom/Cabinets/Body/pCube278 [Mesh]\n",
      "..................................................................................................................................................................................................................................................................................\n",
      "The kitchen contains 2742 prims!\n"
     ]
    }
   ],
   "source": [
    "for numPrims, prim in enumerate(Usd.PrimRange(stage.GetPseudoRoot())):\n",
    "    if numPrims < 10: # Only print the first 10 prims\n",
    "        print(f\"prim {prim.GetPath()} [{prim.GetTypeName()}]\")\n",
    "    elif numPrims % 10 == 1: # Otherwise print a dot for every 10 prims\n",
    "        print(\".\", end = '')\n",
    "print(\"\")\n",
    "print(f\"The kitchen contains {numPrims} prims!\")"
   ]
  },
  {
   "cell_type": "code",
   "execution_count": 24,
   "metadata": {},
   "outputs": [
    {
     "name": "stdout",
     "output_type": "stream",
     "text": [
      "The kitchen contains 203832 points!\n"
     ]
    }
   ],
   "source": [
    "from pxr import UsdGeom\n",
    "numPoints = 0\n",
    "for prim in Usd.PrimRange(stage.GetPseudoRoot()):\n",
    "    if prim.IsA(UsdGeom.PointBased):\n",
    "        pb = UsdGeom.PointBased(prim)\n",
    "        numPoints += len(mesh.GetPointsAttr().Get())\n",
    "print(f\"The kitchen contains {numPoints} points!\")"
   ]
  },
  {
   "cell_type": "code",
   "execution_count": null,
   "metadata": {},
   "outputs": [],
   "source": []
  }
 ],
 "metadata": {
  "kernelspec": {
   "display_name": "Python 3",
   "language": "python",
   "name": "python3"
  },
  "language_info": {
   "codemirror_mode": {
    "name": "ipython",
    "version": 3
   },
   "file_extension": ".py",
   "mimetype": "text/x-python",
   "name": "python",
   "nbconvert_exporter": "python",
   "pygments_lexer": "ipython3",
   "version": "3.8.5"
  }
 },
 "nbformat": 4,
 "nbformat_minor": 4
}
